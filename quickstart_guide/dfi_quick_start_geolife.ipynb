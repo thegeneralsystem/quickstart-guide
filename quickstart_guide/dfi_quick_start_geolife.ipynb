{
 "cells": [
  {
   "attachments": {},
   "cell_type": "markdown",
   "metadata": {},
   "source": [
    "# DFI Quick Start Guide - API Basics; A Small Query"
   ]
  },
  {
   "attachments": {},
   "cell_type": "markdown",
   "metadata": {},
   "source": [
    "This  notebook will guide you through the basics by querying a\n",
    "[small 25 million record dataset](https://www.microsoft.com/en-us/research/publication/geolife-gps-trajectory-dataset-user-guide/)\n",
    "in the Data Flow Index from [General System](https://www.generalsystem.com).\n",
    "\n",
    "OpenAPI specification documentation is available at\n",
    "<https://api.dataflowindex.io/docs/api>.\n",
    "\n",
    "Please refer to https://github.com/thegeneralsystem/dfi-client-examples for\n",
    "the most up-to-date companion documentation.\n",
    "\n",
    "Additional resources and help are available at <https://support.generalsystem.com>."
   ]
  },
  {
   "attachments": {},
   "cell_type": "markdown",
   "metadata": {},
   "source": [
    "## Get ready"
   ]
  },
  {
   "cell_type": "code",
   "execution_count": null,
   "metadata": {},
   "outputs": [],
   "source": [
    "# Install Python modules if they are not already present.\n",
    "!python3 -m pip install requests tabulate pydeck"
   ]
  },
  {
   "cell_type": "code",
   "execution_count": null,
   "metadata": {},
   "outputs": [],
   "source": [
    "# Import required modules.\n",
    "import json\n",
    "from typing import List\n",
    "\n",
    "import requests\n",
    "from tabulate import tabulate"
   ]
  },
  {
   "cell_type": "code",
   "execution_count": null,
   "metadata": {},
   "outputs": [],
   "source": [
    "import pandas as pd\n",
    "\n",
    "# This tutorial uses PyDeck to visualise the data on a map.\n",
    "# If you want to visualise data, please install PyDeck following the instructions:\n",
    "#     https://deckgl.readthedocs.io/en/latest/installation.html\n",
    "# You do not need a Mapbox API key (skip this step).\n",
    "# You DO need to enable pydeck for Jupyter (follow this step in the guide).\n",
    "import pydeck as pdk"
   ]
  },
  {
   "cell_type": "code",
   "execution_count": null,
   "metadata": {},
   "outputs": [],
   "source": [
    "# First set your API token to access the DFI API.\n",
    "#\n",
    "# Access to the DFI demonstration servers requires an API token, which may be\n",
    "# obtained free of charge by enrolling at <https://eap.generalsystem.com>. Once\n",
    "# enrolled, your API token may be redeemed from <https://tokens.dataflowindex.io/>.\n",
    "\n",
    "import os\n",
    "from getpass import getpass\n",
    "\n",
    "api_token = getpass(\"Enter your API token: \")\n",
    "\n",
    "# Set authorisation headers:\n",
    "headers = {\n",
    "    \"Authorization\": f\"Bearer {api_token}\",\n",
    "    \"accept\": \"application/json\",\n",
    "    \"content-type\": \"application/json\",\n",
    "}\n",
    "base_url = \"https://api.dataflowindex.io\"\n",
    "query_timeout = 60"
   ]
  },
  {
   "attachments": {},
   "cell_type": "markdown",
   "metadata": {},
   "source": [
    "#### In this tutorial we will be querying a small Geolife data set\n",
    "\n",
    "Original source data: https://www.microsoft.com/en-us/research/publication/geolife-gps-trajectory-dataset-user-guide/\n",
    "\n",
    "| total records\t| 24.9 million |\n",
    "| ------------- | -------------- |\n",
    "| distinct uuids | 18.670 |\n",
    "\n",
    "#### Hardware\n",
    "- The dataset runs on a single server hosted on AWS\n",
    "- The server has 2 vCPU, 8 GB ram and 1 x 75 GB NVMe SSD\n",
    "\n",
    "#### Note: this is a shared DFI instance, and you cannot add or delete data to it."
   ]
  },
  {
   "cell_type": "code",
   "execution_count": null,
   "metadata": {},
   "outputs": [],
   "source": [
    "# Get list of instances associated with your API key.\n",
    "r = requests.get(f\"{base_url}/instances\", headers=headers, timeout=query_timeout)\n",
    "print(r.json())"
   ]
  },
  {
   "cell_type": "code",
   "execution_count": null,
   "metadata": {},
   "outputs": [],
   "source": [
    "# Next select the DFI instance you will be accessing.\n",
    "namespace = \"gs_eap_demo\"\n",
    "instance_name = \"eap-2\"\n",
    "params = {\"instance\": f\"{namespace}.{instance_name}\"}"
   ]
  },
  {
   "attachments": {},
   "cell_type": "markdown",
   "metadata": {},
   "source": [
    "## Query the data"
   ]
  },
  {
   "cell_type": "code",
   "execution_count": null,
   "metadata": {},
   "outputs": [],
   "source": [
    "# Determine how much data resides in this DFI instance.\n",
    "r = requests.get(f\"{base_url}/count\", params=params, headers=headers, timeout=query_timeout)\n",
    "if r.status_code != 200:\n",
    "    print(f\"Status code: {r.status_code}\")\n",
    "    print(f\"Response:\\n{r.text}\")\n",
    "    r.raise_for_status()\n",
    "total_histories = r.json()\n",
    "print(f\"Total records: {total_histories}\")\n",
    "\n",
    "r = requests.get(f\"{base_url}/entities\", params=params, headers=headers, timeout=query_timeout)\n",
    "if r.status_code != 200:\n",
    "    print(f\"Status code: {r.status_code}\")\n",
    "    print(f\"Response:\\n{r.text}\")\n",
    "    r.raise_for_status()\n",
    "\n",
    "total_entities = len(r.json())\n",
    "print(f\"Total entities: {total_entities}\")\n",
    "if total_entities > 0:\n",
    "    print(f\"Average histories per entity: {round(total_histories / total_entities)}\")"
   ]
  },
  {
   "cell_type": "code",
   "execution_count": null,
   "metadata": {},
   "outputs": [],
   "source": [
    "# We have created a set of interesting polygons that you can use to query the\n",
    "# datasets. Much of this data is in Beijing, China.\n",
    "r = requests.get(f\"{base_url}/namespaces/{namespace}/polygons\", headers=headers, timeout=query_timeout)\n",
    "if r.status_code != 200:\n",
    "    print(f\"Status code: {r.status_code}\")\n",
    "    print(f\"Response:\\n{r.text}\")\n",
    "    r.raise_for_status()\n",
    "\n",
    "data = [[polygon[\"name\"], polygon[\"count\"]] for polygon in r.json()[\"polygons\"]]\n",
    "print(tabulate(data, [\"name\", \"vertices\"], tablefmt=\"pretty\"))"
   ]
  },
  {
   "cell_type": "code",
   "execution_count": null,
   "metadata": {},
   "outputs": [],
   "source": [
    "# This is a helper function that allows us to display a polygon on a map.\n",
    "def show_polygon(query_polygon: str) -> pdk.Deck:\n",
    "    \"\"\"Visualise a polygon on a map\"\"\"\n",
    "    r = requests.get(\n",
    "        f\"{base_url}/namespaces/{namespace}/polygons/\" + query_polygon, headers=headers, timeout=query_timeout\n",
    "    )\n",
    "    r.raise_for_status()\n",
    "\n",
    "    coordinates = r.json()[\"vertices\"]\n",
    "    geo_json = {\n",
    "        \"type\": \"FeatureCollection\",\n",
    "        \"features\": [\n",
    "            {\n",
    "                \"type\": \"Feature\",\n",
    "                \"properties\": {},\n",
    "                \"geometry\": {\"coordinates\": [coordinates], \"type\": \"Polygon\"},\n",
    "            }\n",
    "        ],\n",
    "    }\n",
    "\n",
    "    geo_json_pdk = pdk.Layer(\n",
    "        \"GeoJsonLayer\",\n",
    "        geo_json,\n",
    "        opacity=0.2,\n",
    "        stroked=False,\n",
    "        filled=True,\n",
    "        extruded=False,\n",
    "        wireframe=True,\n",
    "        get_elevation=\"0\",\n",
    "        get_fill_color=\"[255, 255, 0]\",\n",
    "        get_line_color=[255, 255, 255],\n",
    "        pickable=True,\n",
    "    )\n",
    "    view_state = pdk.ViewState(longitude=116.4, latitude=39.9, zoom=10, min_zoom=5, max_zoom=15, pitch=0, bearing=0)\n",
    "    return pdk.Deck(layers=[geo_json_pdk], initial_view_state=view_state)"
   ]
  },
  {
   "cell_type": "code",
   "execution_count": null,
   "metadata": {},
   "outputs": [],
   "source": [
    "# Show some of the polygons on a map.\n",
    "show_polygon(\"ch_beijing_110107\")"
   ]
  },
  {
   "cell_type": "code",
   "execution_count": null,
   "metadata": {},
   "outputs": [],
   "source": [
    "# Count how many records there are inside a polygon.\n",
    "polygon = \"ch_beijing_110107\"\n",
    "time_params = {\n",
    "    \"startTime\": \"2008-01-01T08:00:00.001Z\",\n",
    "    \"endTime\": \"2011-01-30T20:00:00.001Z\",\n",
    "}\n",
    "r = requests.get(\n",
    "    f\"{base_url}/polygon/{namespace}.{polygon}/count\",\n",
    "    params=params | time_params,\n",
    "    headers=headers,\n",
    "    timeout=query_timeout,\n",
    ")\n",
    "\n",
    "print(f\"Status code: {r.status_code}\")\n",
    "print(f\"There are {r.json()} records in the polygon\")"
   ]
  },
  {
   "cell_type": "code",
   "execution_count": null,
   "metadata": {},
   "outputs": [],
   "source": [
    "# Count how many unique entities there are inside a polygon.\n",
    "polygon = \"ch_beijing_110107\"\n",
    "time_params = {\n",
    "    \"startTime\": \"2008-01-01T08:00:00.001Z\",\n",
    "    \"endTime\": \"2011-01-30T20:00:00.001Z\",\n",
    "}\n",
    "r = requests.get(\n",
    "    f\"{base_url}/polygon/{namespace}.{polygon}/entities\",\n",
    "    params=params | time_params,\n",
    "    headers=headers,\n",
    "    timeout=query_timeout,\n",
    ")\n",
    "\n",
    "print(f\"Status code: {r.status_code}\")\n",
    "r.raise_for_status()\n",
    "entities = r.json()\n",
    "\n",
    "print(f\"There are {len(entities)} entities in the polygon\")\n",
    "print(\"Here are the first 3 entity ids:\", entities[:3])"
   ]
  },
  {
   "cell_type": "code",
   "execution_count": null,
   "metadata": {},
   "outputs": [],
   "source": [
    "def show_history(history: List[List[float]]) -> pdk.Deck:\n",
    "    \"\"\"show history on a map\"\"\"\n",
    "    df = pd.DataFrame(history, columns=[\"Longitude\", \"Latitude\"])\n",
    "\n",
    "    history_pdk = pdk.Layer(\n",
    "        \"ScatterplotLayer\",\n",
    "        df,\n",
    "        get_position=[\"Longitude\", \"Latitude\"],\n",
    "        auto_highlight=True,\n",
    "        elevation_scale=500,\n",
    "        pickable=True,\n",
    "        elevation_range=[0, 300],\n",
    "        extruded=True,\n",
    "        filled=True,\n",
    "        opacity=0.8,\n",
    "        radius_scale=6,\n",
    "        radius_min_pixels=1,\n",
    "        radius_max_pixels=100,\n",
    "        line_width_min_pixels=1,\n",
    "        get_fill_color=[255, 0, 0],\n",
    "        get_line_color=[255, 0, 0],\n",
    "        coverage=1,\n",
    "    )\n",
    "    view_state = pdk.ViewState(longitude=116.4, latitude=39.9, zoom=10, min_zoom=5, max_zoom=15, pitch=0, bearing=0)\n",
    "    r = pdk.Deck(layers=[history_pdk], initial_view_state=view_state)\n",
    "    return r"
   ]
  },
  {
   "cell_type": "code",
   "execution_count": null,
   "metadata": {},
   "outputs": [],
   "source": [
    "# List all records of an entity.\n",
    "entity = \"dacc1e4d-aeef-4d19-8c4f-834c9be949a7\"\n",
    "r = requests.get(f\"{base_url}/entities/{entity}/history\", params=params, headers=headers, timeout=query_timeout)\n",
    "print(f\"Status code: {r.status_code}\")\n",
    "r.raise_for_status()\n",
    "\n",
    "history = [[item[\"coordinate\"][0], item[\"coordinate\"][1]] for item in r.json()]\n",
    "show_history(history)"
   ]
  },
  {
   "cell_type": "code",
   "execution_count": null,
   "metadata": {},
   "outputs": [],
   "source": [
    "# List all records inside a polygon.\n",
    "polygon = \"ch_beijing_110107\"\n",
    "time_params = {\n",
    "    \"startTime\": \"2008-01-01T08:00:00.001Z\",\n",
    "    \"endTime\": \"2011-01-30T20:00:00.001Z\",\n",
    "}\n",
    "r = requests.get(\n",
    "    f\"{base_url}/polygon/{namespace}.{polygon}/history\",\n",
    "    params=params | time_params,\n",
    "    headers=headers,\n",
    "    timeout=query_timeout,\n",
    ")\n",
    "print(f\"Status code: {r.status_code}\")\n",
    "r.raise_for_status()\n",
    "\n",
    "history = [[item[\"coordinate\"][0], item[\"coordinate\"][1]] for item in r.json()]\n",
    "show_history(history)"
   ]
  },
  {
   "cell_type": "code",
   "execution_count": null,
   "metadata": {},
   "outputs": [],
   "source": [
    "# We can also query by polygon supplying the list of vertices of the polygon.\n",
    "# Vertices must be listed in counter-clockwise order as mandated in the geoJSON standard.\n",
    "payload = {\"vertices\": [[-1.1, +1.1], [-1.1, -1.1], [+1.1, -1.1], [+1.1, +1.1], [-1.1, +1.1]]}\n",
    "r = requests.post(\n",
    "    f\"{base_url}/polygon/count\",\n",
    "    json=payload,\n",
    "    headers=headers,\n",
    "    params=params,\n",
    "    timeout=query_timeout,\n",
    ")\n",
    "\n",
    "print(f\"Status code: {r.status_code}\")\n",
    "r.raise_for_status()\n",
    "print(f\"Records found: {r.text}\")"
   ]
  },
  {
   "attachments": {},
   "cell_type": "markdown",
   "metadata": {},
   "source": [
    "# Adding polygons"
   ]
  },
  {
   "cell_type": "code",
   "execution_count": null,
   "metadata": {},
   "outputs": [],
   "source": [
    "# Polygons can be defined, named and stored for later use.\n",
    "# Polygons are used in \"points in polygon\" queries. As polygons definitions may\n",
    "# be large and complex, they can be stored and referred to by name in queries.\n",
    "# A polygon could be, for instance, the boundary of a country and be several MBs in size.\n",
    "# Here we create a new polygon.\n",
    "# Vertices must be listed in counter-clockwise order as mandated in the geoJSON standard.\n",
    "payload = {\n",
    "    \"name\": \"my-first-polygon\",\n",
    "    \"vertices\": [[-1.1, +1.1], [-1.1, -1.1], [+1.1, -1.1], [+1.1, +1.1], [-1.1, +1.1]],\n",
    "}\n",
    "r = requests.post(f\"{base_url}/polygons\", json=payload, headers=headers, timeout=query_timeout)\n",
    "print(f\"Status code: {r.status_code}\")"
   ]
  },
  {
   "cell_type": "code",
   "execution_count": null,
   "metadata": {},
   "outputs": [],
   "source": [
    "# Reading the polygon.\n",
    "r = requests.get(f\"{base_url}/polygons\", headers=headers, timeout=query_timeout)\n",
    "if r.status_code != 200:\n",
    "    print(f\"Status code: {r.status_code}\")\n",
    "    print(f\"Response:\\n{r.text}\")\n",
    "    r.raise_for_status()\n",
    "\n",
    "data = [[polygon[\"name\"], polygon[\"count\"]] for polygon in r.json()[\"polygons\"]]\n",
    "print(tabulate(data, [\"name\", \"vertices\"], tablefmt=\"pretty\"))"
   ]
  },
  {
   "attachments": {},
   "cell_type": "markdown",
   "metadata": {},
   "source": [
    "### Bounding box queries methods\n",
    "The user supplies a bounding box by listing its top-left, bottom-right vertices. The DFI will find all points (observations) that lie within. We have 3 types of queries:\n",
    "\n",
    "* `count` - Computes how many points lie within the polygon\n",
    "* `points` - Returns the details of the points that lie within the polygon\n",
    "* `entities` - Returns the list of unique sensor ids that lie within the polygon\n",
    "\n",
    "All queries optionally support time ranges and limit the search to include a list of sensor IDs."
   ]
  },
  {
   "cell_type": "code",
   "execution_count": null,
   "metadata": {},
   "outputs": [],
   "source": [
    "payload = {\"minLng\": 115.5, \"minLat\": 39.5, \"maxLng\": 116.5, \"maxLat\": 40.5}\n",
    "r = requests.post(\n",
    "    base_url + \"/bounding-box/count\",\n",
    "    json=payload,\n",
    "    headers=headers,\n",
    "    params=params,\n",
    "    timeout=query_timeout,\n",
    ")\n",
    "print(f\"Status code: {r.status_code}\")\n",
    "r.raise_for_status()\n",
    "print(\"Results: \", r.text)"
   ]
  },
  {
   "cell_type": "code",
   "execution_count": null,
   "metadata": {},
   "outputs": [],
   "source": [
    "payload = {\"minLng\": 115.5, \"minLat\": 39.5, \"maxLng\": 115.8, \"maxLat\": 39.6}\n",
    "r = requests.post(\n",
    "    f\"{base_url}/bounding-box/history\",\n",
    "    json=payload,\n",
    "    headers=headers,\n",
    "    params=params,\n",
    "    timeout=query_timeout,\n",
    ")\n",
    "print(f\"Status code: {r.status_code}\")\n",
    "r.raise_for_status()\n",
    "print(f\"Results: {r.text}\")"
   ]
  },
  {
   "cell_type": "code",
   "execution_count": null,
   "metadata": {},
   "outputs": [],
   "source": [
    "payload = {\"minLng\": 115.5, \"minLat\": 39.5, \"maxLng\": 116.5, \"maxLat\": 40.5}\n",
    "r = requests.post(\n",
    "    f\"{base_url}/bounding-box/entities\",\n",
    "    json=payload,\n",
    "    headers=headers,\n",
    "    params=params,\n",
    "    timeout=query_timeout,\n",
    ")\n",
    "print(f\"Status code: {r.status_code}\")\n",
    "r.raise_for_status()\n",
    "print(f\"Results: {r.text}\")"
   ]
  }
 ],
 "metadata": {
  "kernelspec": {
   "display_name": "Python 3 (ipykernel)",
   "language": "python",
   "name": "python3"
  },
  "language_info": {
   "codemirror_mode": {
    "name": "ipython",
    "version": 3
   },
   "file_extension": ".py",
   "mimetype": "text/x-python",
   "name": "python",
   "nbconvert_exporter": "python",
   "pygments_lexer": "ipython3",
   "version": "3.11.5"
  },
  "vscode": {
   "interpreter": {
    "hash": "aee8b7b246df8f9039afb4144a1f6fd8d2ca17a180786b69acc140d282b71a49"
   }
  }
 },
 "nbformat": 4,
 "nbformat_minor": 4
}
